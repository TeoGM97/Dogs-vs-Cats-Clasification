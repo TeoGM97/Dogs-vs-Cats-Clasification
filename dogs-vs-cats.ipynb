{
 "cells": [
  {
   "cell_type": "markdown",
   "id": "8d9e02b5",
   "metadata": {
    "papermill": {
     "duration": 0.004091,
     "end_time": "2023-02-01T11:56:19.746654",
     "exception": false,
     "start_time": "2023-02-01T11:56:19.742563",
     "status": "completed"
    },
    "tags": []
   },
   "source": [
    "### Libraries"
   ]
  },
  {
   "cell_type": "code",
   "execution_count": 1,
   "id": "83d3ca85",
   "metadata": {
    "execution": {
     "iopub.execute_input": "2023-02-01T11:56:19.753742Z",
     "iopub.status.busy": "2023-02-01T11:56:19.752832Z",
     "iopub.status.idle": "2023-02-01T11:56:24.791262Z",
     "shell.execute_reply": "2023-02-01T11:56:24.790244Z"
    },
    "papermill": {
     "duration": 5.04507,
     "end_time": "2023-02-01T11:56:24.793812",
     "exception": false,
     "start_time": "2023-02-01T11:56:19.748742",
     "status": "completed"
    },
    "tags": []
   },
   "outputs": [],
   "source": [
    "import tensorflow as tf\n",
    "from tensorflow.keras.layers import Conv2D, MaxPool2D, Dropout, Flatten, Dense\n",
    "from tensorflow.keras.preprocessing.image import ImageDataGenerator\n",
    "from tensorflow.keras.callbacks import ModelCheckpoint, EarlyStopping\n",
    "from tensorflow.keras import models, optimizers, regularizers"
   ]
  },
  {
   "cell_type": "markdown",
   "id": "3cd7ca71",
   "metadata": {
    "papermill": {
     "duration": 0.001583,
     "end_time": "2023-02-01T11:56:24.797546",
     "exception": false,
     "start_time": "2023-02-01T11:56:24.795963",
     "status": "completed"
    },
    "tags": []
   },
   "source": [
    "### Architecture"
   ]
  },
  {
   "cell_type": "code",
   "execution_count": 2,
   "id": "570281c2",
   "metadata": {
    "execution": {
     "iopub.execute_input": "2023-02-01T11:56:24.803282Z",
     "iopub.status.busy": "2023-02-01T11:56:24.801963Z",
     "iopub.status.idle": "2023-02-01T11:56:27.644312Z",
     "shell.execute_reply": "2023-02-01T11:56:27.643340Z"
    },
    "papermill": {
     "duration": 2.849437,
     "end_time": "2023-02-01T11:56:27.648778",
     "exception": false,
     "start_time": "2023-02-01T11:56:24.799341",
     "status": "completed"
    },
    "tags": []
   },
   "outputs": [
    {
     "name": "stderr",
     "output_type": "stream",
     "text": [
      "2023-02-01 11:56:24.883349: I tensorflow/stream_executor/cuda/cuda_gpu_executor.cc:937] successful NUMA node read from SysFS had negative value (-1), but there must be at least one NUMA node, so returning NUMA node zero\n",
      "2023-02-01 11:56:24.976674: I tensorflow/stream_executor/cuda/cuda_gpu_executor.cc:937] successful NUMA node read from SysFS had negative value (-1), but there must be at least one NUMA node, so returning NUMA node zero\n",
      "2023-02-01 11:56:24.977490: I tensorflow/stream_executor/cuda/cuda_gpu_executor.cc:937] successful NUMA node read from SysFS had negative value (-1), but there must be at least one NUMA node, so returning NUMA node zero\n"
     ]
    },
    {
     "name": "stdout",
     "output_type": "stream",
     "text": [
      "Model: \"sequential\"\n",
      "_________________________________________________________________\n",
      "Layer (type)                 Output Shape              Param #   \n",
      "=================================================================\n",
      "conv2d (Conv2D)              (None, 148, 148, 32)      896       \n",
      "_________________________________________________________________\n",
      "max_pooling2d (MaxPooling2D) (None, 74, 74, 32)        0         \n",
      "_________________________________________________________________\n",
      "conv2d_1 (Conv2D)            (None, 72, 72, 64)        18496     \n",
      "_________________________________________________________________\n",
      "max_pooling2d_1 (MaxPooling2 (None, 36, 36, 64)        0         \n",
      "_________________________________________________________________\n",
      "conv2d_2 (Conv2D)            (None, 34, 34, 128)       73856     \n",
      "_________________________________________________________________\n",
      "max_pooling2d_2 (MaxPooling2 (None, 17, 17, 128)       0         \n",
      "_________________________________________________________________\n",
      "conv2d_3 (Conv2D)            (None, 15, 15, 128)       147584    \n",
      "_________________________________________________________________\n",
      "max_pooling2d_3 (MaxPooling2 (None, 7, 7, 128)         0         \n",
      "_________________________________________________________________\n",
      "flatten (Flatten)            (None, 6272)              0         \n",
      "_________________________________________________________________\n",
      "dropout (Dropout)            (None, 6272)              0         \n",
      "_________________________________________________________________\n",
      "dense (Dense)                (None, 512)               3211776   \n",
      "_________________________________________________________________\n",
      "dense_1 (Dense)              (None, 1)                 513       \n",
      "=================================================================\n",
      "Total params: 3,453,121\n",
      "Trainable params: 3,453,121\n",
      "Non-trainable params: 0\n",
      "_________________________________________________________________\n"
     ]
    },
    {
     "name": "stderr",
     "output_type": "stream",
     "text": [
      "2023-02-01 11:56:24.980143: I tensorflow/core/platform/cpu_feature_guard.cc:142] This TensorFlow binary is optimized with oneAPI Deep Neural Network Library (oneDNN) to use the following CPU instructions in performance-critical operations:  AVX2 AVX512F FMA\n",
      "To enable them in other operations, rebuild TensorFlow with the appropriate compiler flags.\n",
      "2023-02-01 11:56:24.985975: I tensorflow/stream_executor/cuda/cuda_gpu_executor.cc:937] successful NUMA node read from SysFS had negative value (-1), but there must be at least one NUMA node, so returning NUMA node zero\n",
      "2023-02-01 11:56:24.986676: I tensorflow/stream_executor/cuda/cuda_gpu_executor.cc:937] successful NUMA node read from SysFS had negative value (-1), but there must be at least one NUMA node, so returning NUMA node zero\n",
      "2023-02-01 11:56:24.987360: I tensorflow/stream_executor/cuda/cuda_gpu_executor.cc:937] successful NUMA node read from SysFS had negative value (-1), but there must be at least one NUMA node, so returning NUMA node zero\n",
      "2023-02-01 11:56:27.193599: I tensorflow/stream_executor/cuda/cuda_gpu_executor.cc:937] successful NUMA node read from SysFS had negative value (-1), but there must be at least one NUMA node, so returning NUMA node zero\n",
      "2023-02-01 11:56:27.194442: I tensorflow/stream_executor/cuda/cuda_gpu_executor.cc:937] successful NUMA node read from SysFS had negative value (-1), but there must be at least one NUMA node, so returning NUMA node zero\n",
      "2023-02-01 11:56:27.195196: I tensorflow/stream_executor/cuda/cuda_gpu_executor.cc:937] successful NUMA node read from SysFS had negative value (-1), but there must be at least one NUMA node, so returning NUMA node zero\n",
      "2023-02-01 11:56:27.195808: I tensorflow/core/common_runtime/gpu/gpu_device.cc:1510] Created device /job:localhost/replica:0/task:0/device:GPU:0 with 15401 MB memory:  -> device: 0, name: Tesla P100-PCIE-16GB, pci bus id: 0000:00:04.0, compute capability: 6.0\n"
     ]
    }
   ],
   "source": [
    "model = models.Sequential()\n",
    "\n",
    "#CONV 1\n",
    "model.add(Conv2D(32, (3,3), activation = 'relu', input_shape = (150,150,3)))\n",
    "model.add(MaxPool2D((2,2)))\n",
    "\n",
    "#CONV 2\n",
    "model.add(Conv2D(64, (3,3), activation = 'relu'))\n",
    "model.add(MaxPool2D((2,2)))\n",
    "\n",
    "#CONV 3\n",
    "model.add(Conv2D(128, (3,3), activation = 'relu'))\n",
    "model.add(MaxPool2D((2,2)))\n",
    "\n",
    "#CONV 3\n",
    "model.add(Conv2D(128, (3,3), activation = 'relu'))\n",
    "model.add(MaxPool2D((2,2)))\n",
    "\n",
    "#FLATTEN\n",
    "model.add(Flatten())\n",
    "model.add(Dropout(0.5))\n",
    "model.add(Dense(512, activation = 'relu'))\n",
    "model.add(Dense(1, activation = 'sigmoid')) #Because is a binary clasification\n",
    "\n",
    "#Summary\n",
    "model.summary()"
   ]
  },
  {
   "cell_type": "markdown",
   "id": "9484ec2e",
   "metadata": {
    "papermill": {
     "duration": 0.001946,
     "end_time": "2023-02-01T11:56:27.653434",
     "exception": false,
     "start_time": "2023-02-01T11:56:27.651488",
     "status": "completed"
    },
    "tags": []
   },
   "source": []
  }
 ],
 "metadata": {
  "kernelspec": {
   "display_name": "Python 3",
   "language": "python",
   "name": "python3"
  },
  "language_info": {
   "codemirror_mode": {
    "name": "ipython",
    "version": 3
   },
   "file_extension": ".py",
   "mimetype": "text/x-python",
   "name": "python",
   "nbconvert_exporter": "python",
   "pygments_lexer": "ipython3",
   "version": "3.7.12"
  },
  "papermill": {
   "default_parameters": {},
   "duration": 18.260384,
   "end_time": "2023-02-01T11:56:30.556375",
   "environment_variables": {},
   "exception": null,
   "input_path": "__notebook__.ipynb",
   "output_path": "__notebook__.ipynb",
   "parameters": {},
   "start_time": "2023-02-01T11:56:12.295991",
   "version": "2.3.4"
  }
 },
 "nbformat": 4,
 "nbformat_minor": 5
}
