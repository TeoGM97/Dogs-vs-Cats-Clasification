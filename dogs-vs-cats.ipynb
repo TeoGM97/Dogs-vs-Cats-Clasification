{
 "cells": [
  {
   "cell_type": "markdown",
   "id": "e5c58406",
   "metadata": {
    "papermill": {
     "duration": 0.005521,
     "end_time": "2023-02-01T13:20:01.230897",
     "exception": false,
     "start_time": "2023-02-01T13:20:01.225376",
     "status": "completed"
    },
    "tags": []
   },
   "source": [
    "### Libraries"
   ]
  },
  {
   "cell_type": "code",
   "execution_count": 1,
   "id": "c9fa53f8",
   "metadata": {
    "execution": {
     "iopub.execute_input": "2023-02-01T13:20:01.245228Z",
     "iopub.status.busy": "2023-02-01T13:20:01.244485Z",
     "iopub.status.idle": "2023-02-01T13:20:06.415772Z",
     "shell.execute_reply": "2023-02-01T13:20:06.414685Z"
    },
    "papermill": {
     "duration": 5.179845,
     "end_time": "2023-02-01T13:20:06.418333",
     "exception": false,
     "start_time": "2023-02-01T13:20:01.238488",
     "status": "completed"
    },
    "tags": []
   },
   "outputs": [],
   "source": [
    "import tensorflow as tf\n",
    "from tensorflow.keras.layers import Conv2D, MaxPool2D, Dropout, Flatten, Dense, BatchNormalization\n",
    "from tensorflow.keras.preprocessing.image import ImageDataGenerator\n",
    "from tensorflow.keras.callbacks import ModelCheckpoint, EarlyStopping\n",
    "from tensorflow.keras import models, optimizers, regularizers"
   ]
  },
  {
   "cell_type": "markdown",
   "id": "57012bb6",
   "metadata": {
    "papermill": {
     "duration": 0.004629,
     "end_time": "2023-02-01T13:20:06.427809",
     "exception": false,
     "start_time": "2023-02-01T13:20:06.423180",
     "status": "completed"
    },
    "tags": []
   },
   "source": [
    "### Architecture"
   ]
  },
  {
   "cell_type": "code",
   "execution_count": 2,
   "id": "923fb846",
   "metadata": {
    "execution": {
     "iopub.execute_input": "2023-02-01T13:20:06.438624Z",
     "iopub.status.busy": "2023-02-01T13:20:06.438107Z",
     "iopub.status.idle": "2023-02-01T13:20:09.523883Z",
     "shell.execute_reply": "2023-02-01T13:20:09.522720Z"
    },
    "papermill": {
     "duration": 3.094221,
     "end_time": "2023-02-01T13:20:09.526358",
     "exception": false,
     "start_time": "2023-02-01T13:20:06.432137",
     "status": "completed"
    },
    "tags": []
   },
   "outputs": [
    {
     "name": "stderr",
     "output_type": "stream",
     "text": [
      "2023-02-01 13:20:06.525955: I tensorflow/stream_executor/cuda/cuda_gpu_executor.cc:937] successful NUMA node read from SysFS had negative value (-1), but there must be at least one NUMA node, so returning NUMA node zero\n",
      "2023-02-01 13:20:06.622255: I tensorflow/stream_executor/cuda/cuda_gpu_executor.cc:937] successful NUMA node read from SysFS had negative value (-1), but there must be at least one NUMA node, so returning NUMA node zero\n",
      "2023-02-01 13:20:06.623050: I tensorflow/stream_executor/cuda/cuda_gpu_executor.cc:937] successful NUMA node read from SysFS had negative value (-1), but there must be at least one NUMA node, so returning NUMA node zero\n",
      "2023-02-01 13:20:06.625295: I tensorflow/core/platform/cpu_feature_guard.cc:142] This TensorFlow binary is optimized with oneAPI Deep Neural Network Library (oneDNN) to use the following CPU instructions in performance-critical operations:  AVX2 AVX512F FMA\n",
      "To enable them in other operations, rebuild TensorFlow with the appropriate compiler flags.\n",
      "2023-02-01 13:20:06.630610: I tensorflow/stream_executor/cuda/cuda_gpu_executor.cc:937] successful NUMA node read from SysFS had negative value (-1), but there must be at least one NUMA node, so returning NUMA node zero\n",
      "2023-02-01 13:20:06.631337: I tensorflow/stream_executor/cuda/cuda_gpu_executor.cc:937] successful NUMA node read from SysFS had negative value (-1), but there must be at least one NUMA node, so returning NUMA node zero\n",
      "2023-02-01 13:20:06.632037: I tensorflow/stream_executor/cuda/cuda_gpu_executor.cc:937] successful NUMA node read from SysFS had negative value (-1), but there must be at least one NUMA node, so returning NUMA node zero\n",
      "2023-02-01 13:20:08.857973: I tensorflow/stream_executor/cuda/cuda_gpu_executor.cc:937] successful NUMA node read from SysFS had negative value (-1), but there must be at least one NUMA node, so returning NUMA node zero\n",
      "2023-02-01 13:20:08.858855: I tensorflow/stream_executor/cuda/cuda_gpu_executor.cc:937] successful NUMA node read from SysFS had negative value (-1), but there must be at least one NUMA node, so returning NUMA node zero\n",
      "2023-02-01 13:20:08.859503: I tensorflow/stream_executor/cuda/cuda_gpu_executor.cc:937] successful NUMA node read from SysFS had negative value (-1), but there must be at least one NUMA node, so returning NUMA node zero\n",
      "2023-02-01 13:20:08.860171: I tensorflow/core/common_runtime/gpu/gpu_device.cc:1510] Created device /job:localhost/replica:0/task:0/device:GPU:0 with 15401 MB memory:  -> device: 0, name: Tesla P100-PCIE-16GB, pci bus id: 0000:00:04.0, compute capability: 6.0\n"
     ]
    },
    {
     "name": "stdout",
     "output_type": "stream",
     "text": [
      "Model: \"sequential\"\n",
      "_________________________________________________________________\n",
      "Layer (type)                 Output Shape              Param #   \n",
      "=================================================================\n",
      "conv2d (Conv2D)              (None, 148, 148, 32)      896       \n",
      "_________________________________________________________________\n",
      "max_pooling2d (MaxPooling2D) (None, 74, 74, 32)        0         \n",
      "_________________________________________________________________\n",
      "batch_normalization (BatchNo (None, 74, 74, 32)        128       \n",
      "_________________________________________________________________\n",
      "conv2d_1 (Conv2D)            (None, 72, 72, 64)        18496     \n",
      "_________________________________________________________________\n",
      "max_pooling2d_1 (MaxPooling2 (None, 36, 36, 64)        0         \n",
      "_________________________________________________________________\n",
      "batch_normalization_1 (Batch (None, 36, 36, 64)        256       \n",
      "_________________________________________________________________\n",
      "conv2d_2 (Conv2D)            (None, 34, 34, 128)       73856     \n",
      "_________________________________________________________________\n",
      "max_pooling2d_2 (MaxPooling2 (None, 17, 17, 128)       0         \n",
      "_________________________________________________________________\n",
      "batch_normalization_2 (Batch (None, 17, 17, 128)       512       \n",
      "_________________________________________________________________\n",
      "conv2d_3 (Conv2D)            (None, 15, 15, 128)       147584    \n",
      "_________________________________________________________________\n",
      "max_pooling2d_3 (MaxPooling2 (None, 8, 8, 128)         0         \n",
      "_________________________________________________________________\n",
      "batch_normalization_3 (Batch (None, 8, 8, 128)         512       \n",
      "_________________________________________________________________\n",
      "conv2d_4 (Conv2D)            (None, 6, 6, 256)         295168    \n",
      "_________________________________________________________________\n",
      "max_pooling2d_4 (MaxPooling2 (None, 3, 3, 256)         0         \n",
      "_________________________________________________________________\n",
      "batch_normalization_4 (Batch (None, 3, 3, 256)         1024      \n",
      "_________________________________________________________________\n",
      "flatten (Flatten)            (None, 2304)              0         \n",
      "_________________________________________________________________\n",
      "dropout (Dropout)            (None, 2304)              0         \n",
      "_________________________________________________________________\n",
      "dense (Dense)                (None, 512)               1180160   \n",
      "_________________________________________________________________\n",
      "dense_1 (Dense)              (None, 1)                 513       \n",
      "=================================================================\n",
      "Total params: 1,719,105\n",
      "Trainable params: 1,717,889\n",
      "Non-trainable params: 1,216\n",
      "_________________________________________________________________\n"
     ]
    }
   ],
   "source": [
    "model = models.Sequential()\n",
    "\n",
    "#CONV 1\n",
    "model.add(Conv2D(32, (3,3), activation = 'relu', input_shape = (150,150,3)))\n",
    "model.add(MaxPool2D((2,2)))\n",
    "model.add(BatchNormalization())\n",
    "\n",
    "#CONV 2\n",
    "model.add(Conv2D(64, (3,3), activation = 'relu'))\n",
    "model.add(MaxPool2D((2,2), padding = 'same'))\n",
    "model.add(BatchNormalization())\n",
    "\n",
    "#CONV 3\n",
    "model.add(Conv2D(128, (3,3), activation = 'relu'))\n",
    "model.add(MaxPool2D((2,2)))\n",
    "model.add(BatchNormalization())\n",
    "\n",
    "#CONV 3\n",
    "model.add(Conv2D(128, (3,3), activation = 'relu'))\n",
    "model.add(MaxPool2D((2,2), padding = 'same'))\n",
    "model.add(BatchNormalization())\n",
    "          \n",
    "#CONV 4\n",
    "model.add(Conv2D(256, (3,3), activation = 'relu'))\n",
    "model.add(MaxPool2D((2,2)))\n",
    "model.add(BatchNormalization())          \n",
    "\n",
    "#FLATTEN\n",
    "model.add(Flatten())\n",
    "model.add(Dropout(0.5))\n",
    "model.add(Dense(512, activation = 'relu'))\n",
    "model.add(Dense(1, activation = 'sigmoid')) #Because is a binary clasification\n",
    "\n",
    "#Summary\n",
    "model.summary()\n",
    "\n",
    "#model.add(Conv2D(64, (3, 3), padding='same', kernel_regularizer=regularizers.l2(1e-5), activation='relu'))\n",
    "#model.add(BatchNormalization())\n",
    "#model.add(MaxPooling2D(2, 2))"
   ]
  },
  {
   "cell_type": "markdown",
   "id": "99359e41",
   "metadata": {
    "papermill": {
     "duration": 0.005358,
     "end_time": "2023-02-01T13:20:09.537583",
     "exception": false,
     "start_time": "2023-02-01T13:20:09.532225",
     "status": "completed"
    },
    "tags": []
   },
   "source": [
    "### Preparation of Data"
   ]
  },
  {
   "cell_type": "code",
   "execution_count": 3,
   "id": "75a3a121",
   "metadata": {
    "execution": {
     "iopub.execute_input": "2023-02-01T13:20:09.549699Z",
     "iopub.status.busy": "2023-02-01T13:20:09.549383Z",
     "iopub.status.idle": "2023-02-01T13:20:09.555077Z",
     "shell.execute_reply": "2023-02-01T13:20:09.553938Z"
    },
    "papermill": {
     "duration": 0.014257,
     "end_time": "2023-02-01T13:20:09.557176",
     "exception": false,
     "start_time": "2023-02-01T13:20:09.542919",
     "status": "completed"
    },
    "tags": []
   },
   "outputs": [],
   "source": [
    "#Generate more images based on the ones that already have for training\n",
    "\n",
    "train_datagen = ImageDataGenerator(\n",
    "    rescale = 1./255,         #Scale data and divide in 255 (Max number of pixels)\n",
    "    rotation_range = 40,      #Rotation of images 40°\n",
    "    width_shift_range = 0.2,  #Displacement on the horizontal axis\n",
    "    height_shift_range = 0.2, #displacement on the vertial axis\n",
    "    shear_range = 0.2,        #Distorsion in axis\n",
    "    zoom_range = 0.2,         #Zoom of 0.2 in image\n",
    "    horizontal_flip = True    #Horizontal flip\n",
    ")"
   ]
  },
  {
   "cell_type": "markdown",
   "id": "cb8b025d",
   "metadata": {
    "papermill": {
     "duration": 0.004912,
     "end_time": "2023-02-01T13:20:09.566790",
     "exception": false,
     "start_time": "2023-02-01T13:20:09.561878",
     "status": "completed"
    },
    "tags": []
   },
   "source": [
    "### Test data Rescale"
   ]
  },
  {
   "cell_type": "code",
   "execution_count": 4,
   "id": "2905928b",
   "metadata": {
    "execution": {
     "iopub.execute_input": "2023-02-01T13:20:09.578343Z",
     "iopub.status.busy": "2023-02-01T13:20:09.577575Z",
     "iopub.status.idle": "2023-02-01T13:20:09.582124Z",
     "shell.execute_reply": "2023-02-01T13:20:09.581186Z"
    },
    "papermill": {
     "duration": 0.012524,
     "end_time": "2023-02-01T13:20:09.584042",
     "exception": false,
     "start_time": "2023-02-01T13:20:09.571518",
     "status": "completed"
    },
    "tags": []
   },
   "outputs": [],
   "source": [
    "test_datagen = ImageDataGenerator(rescale = 1./255)"
   ]
  },
  {
   "cell_type": "markdown",
   "id": "01cbd0ef",
   "metadata": {
    "papermill": {
     "duration": 0.00455,
     "end_time": "2023-02-01T13:20:09.593273",
     "exception": false,
     "start_time": "2023-02-01T13:20:09.588723",
     "status": "completed"
    },
    "tags": []
   },
   "source": [
    "### Load Data from directory\n",
    "Data from dataset provided"
   ]
  },
  {
   "cell_type": "code",
   "execution_count": 5,
   "id": "d4feff1a",
   "metadata": {
    "execution": {
     "iopub.execute_input": "2023-02-01T13:20:09.604507Z",
     "iopub.status.busy": "2023-02-01T13:20:09.603774Z",
     "iopub.status.idle": "2023-02-01T13:20:10.133320Z",
     "shell.execute_reply": "2023-02-01T13:20:10.132307Z"
    },
    "papermill": {
     "duration": 0.537541,
     "end_time": "2023-02-01T13:20:10.135745",
     "exception": false,
     "start_time": "2023-02-01T13:20:09.598204",
     "status": "completed"
    },
    "tags": []
   },
   "outputs": [
    {
     "name": "stdout",
     "output_type": "stream",
     "text": [
      "Found 2000 images belonging to 2 classes.\n",
      "Found 1000 images belonging to 2 classes.\n"
     ]
    }
   ],
   "source": [
    "#Train Data\n",
    "train_generator = train_datagen.flow_from_directory('../input/cnn-data-sources/cats_and_dogs/train',\n",
    "                                  target_size = (150,150), #Define standar size of images\n",
    "                                  batch_size = 32, #Size of batches\n",
    "                                  class_mode = 'binary' #because there are only 2 options (Dogs and Cats)\n",
    "                                  )\n",
    "\n",
    "#Test Data\n",
    "validation_generator = test_datagen.flow_from_directory('../input/cnn-data-sources/cats_and_dogs/validation',\n",
    "                                  target_size = (150,150), #Define standar size of images\n",
    "                                  batch_size = 32, #Size of batches\n",
    "                                  class_mode = 'binary' #because there are only 2 options (Dogs and Cats)\n",
    "                                  )"
   ]
  },
  {
   "cell_type": "markdown",
   "id": "563db662",
   "metadata": {
    "papermill": {
     "duration": 0.004646,
     "end_time": "2023-02-01T13:20:10.145449",
     "exception": false,
     "start_time": "2023-02-01T13:20:10.140803",
     "status": "completed"
    },
    "tags": []
   },
   "source": [
    "### Train Model"
   ]
  },
  {
   "cell_type": "code",
   "execution_count": 6,
   "id": "f5dc97d5",
   "metadata": {
    "execution": {
     "iopub.execute_input": "2023-02-01T13:20:10.157726Z",
     "iopub.status.busy": "2023-02-01T13:20:10.156920Z",
     "iopub.status.idle": "2023-02-01T13:20:10.161895Z",
     "shell.execute_reply": "2023-02-01T13:20:10.161052Z"
    },
    "papermill": {
     "duration": 0.013773,
     "end_time": "2023-02-01T13:20:10.163890",
     "exception": false,
     "start_time": "2023-02-01T13:20:10.150117",
     "status": "completed"
    },
    "tags": []
   },
   "outputs": [],
   "source": [
    "#Saving the best model.\n",
    "checkpoint = ModelCheckpoint('dog_cats_model.hdf5', monitor = 'val_accuracy', verbose = 1, save_best_only = True)"
   ]
  },
  {
   "cell_type": "markdown",
   "id": "c523ed81",
   "metadata": {
    "papermill": {
     "duration": 0.004483,
     "end_time": "2023-02-01T13:20:10.173255",
     "exception": false,
     "start_time": "2023-02-01T13:20:10.168772",
     "status": "completed"
    },
    "tags": []
   },
   "source": [
    "### Compile model"
   ]
  },
  {
   "cell_type": "code",
   "execution_count": 7,
   "id": "faab1df1",
   "metadata": {
    "execution": {
     "iopub.execute_input": "2023-02-01T13:20:10.184418Z",
     "iopub.status.busy": "2023-02-01T13:20:10.183636Z",
     "iopub.status.idle": "2023-02-01T13:20:10.196996Z",
     "shell.execute_reply": "2023-02-01T13:20:10.196014Z"
    },
    "papermill": {
     "duration": 0.021052,
     "end_time": "2023-02-01T13:20:10.199180",
     "exception": false,
     "start_time": "2023-02-01T13:20:10.178128",
     "status": "completed"
    },
    "tags": []
   },
   "outputs": [],
   "source": [
    "model.compile(loss = 'binary_crossentropy', \n",
    "              optimizer = optimizers.Adam(),\n",
    "              metrics = ['accuracy'])"
   ]
  },
  {
   "cell_type": "markdown",
   "id": "6cddf59b",
   "metadata": {
    "papermill": {
     "duration": 0.004589,
     "end_time": "2023-02-01T13:20:10.208785",
     "exception": false,
     "start_time": "2023-02-01T13:20:10.204196",
     "status": "completed"
    },
    "tags": []
   },
   "source": [
    "### Training of model  "
   ]
  },
  {
   "cell_type": "code",
   "execution_count": 8,
   "id": "f01ed100",
   "metadata": {
    "execution": {
     "iopub.execute_input": "2023-02-01T13:20:10.221149Z",
     "iopub.status.busy": "2023-02-01T13:20:10.219678Z",
     "iopub.status.idle": "2023-02-01T13:24:05.552870Z",
     "shell.execute_reply": "2023-02-01T13:24:05.551263Z"
    },
    "papermill": {
     "duration": 235.342076,
     "end_time": "2023-02-01T13:24:05.555552",
     "exception": false,
     "start_time": "2023-02-01T13:20:10.213476",
     "status": "completed"
    },
    "tags": []
   },
   "outputs": [
    {
     "name": "stderr",
     "output_type": "stream",
     "text": [
      "2023-02-01 13:20:10.630833: I tensorflow/compiler/mlir/mlir_graph_optimization_pass.cc:185] None of the MLIR Optimization Passes are enabled (registered 2)\n"
     ]
    },
    {
     "name": "stdout",
     "output_type": "stream",
     "text": [
      "Epoch 1/10\n"
     ]
    },
    {
     "name": "stderr",
     "output_type": "stream",
     "text": [
      "2023-02-01 13:20:12.564429: I tensorflow/stream_executor/cuda/cuda_dnn.cc:369] Loaded cuDNN version 8005\n"
     ]
    },
    {
     "name": "stdout",
     "output_type": "stream",
     "text": [
      "62/62 [==============================] - 33s 408ms/step - loss: 1.3585 - accuracy: 0.5716 - val_loss: 0.8588 - val_accuracy: 0.4990\n",
      "\n",
      "Epoch 00001: val_accuracy improved from -inf to 0.49899, saving model to dog_cats_model.hdf5\n",
      "Epoch 2/10\n",
      "62/62 [==============================] - 20s 321ms/step - loss: 1.0802 - accuracy: 0.5843 - val_loss: 0.7717 - val_accuracy: 0.4990\n",
      "\n",
      "Epoch 00002: val_accuracy did not improve from 0.49899\n",
      "Epoch 3/10\n",
      "62/62 [==============================] - 20s 319ms/step - loss: 0.8309 - accuracy: 0.6179 - val_loss: 0.8625 - val_accuracy: 0.5020\n",
      "\n",
      "Epoch 00003: val_accuracy improved from 0.49899 to 0.50202, saving model to dog_cats_model.hdf5\n",
      "Epoch 4/10\n",
      "62/62 [==============================] - 19s 307ms/step - loss: 0.7061 - accuracy: 0.6494 - val_loss: 1.6159 - val_accuracy: 0.5020\n",
      "\n",
      "Epoch 00004: val_accuracy did not improve from 0.50202\n",
      "Epoch 5/10\n",
      "62/62 [==============================] - 20s 319ms/step - loss: 0.6546 - accuracy: 0.6753 - val_loss: 1.4186 - val_accuracy: 0.5000\n",
      "\n",
      "Epoch 00005: val_accuracy did not improve from 0.50202\n",
      "Epoch 6/10\n",
      "62/62 [==============================] - 19s 307ms/step - loss: 0.5873 - accuracy: 0.7033 - val_loss: 0.7776 - val_accuracy: 0.5323\n",
      "\n",
      "Epoch 00006: val_accuracy improved from 0.50202 to 0.53226, saving model to dog_cats_model.hdf5\n",
      "Epoch 7/10\n",
      "62/62 [==============================] - 21s 335ms/step - loss: 0.5635 - accuracy: 0.7170 - val_loss: 0.8837 - val_accuracy: 0.5454\n",
      "\n",
      "Epoch 00007: val_accuracy improved from 0.53226 to 0.54536, saving model to dog_cats_model.hdf5\n",
      "Epoch 8/10\n",
      "62/62 [==============================] - 20s 319ms/step - loss: 0.5684 - accuracy: 0.7139 - val_loss: 0.7012 - val_accuracy: 0.6210\n",
      "\n",
      "Epoch 00008: val_accuracy improved from 0.54536 to 0.62097, saving model to dog_cats_model.hdf5\n",
      "Epoch 9/10\n",
      "62/62 [==============================] - 19s 300ms/step - loss: 0.5454 - accuracy: 0.7317 - val_loss: 0.6093 - val_accuracy: 0.6976\n",
      "\n",
      "Epoch 00009: val_accuracy improved from 0.62097 to 0.69758, saving model to dog_cats_model.hdf5\n",
      "Epoch 10/10\n",
      "62/62 [==============================] - 19s 308ms/step - loss: 0.5470 - accuracy: 0.7241 - val_loss: 0.5597 - val_accuracy: 0.6835\n",
      "\n",
      "Epoch 00010: val_accuracy did not improve from 0.69758\n"
     ]
    }
   ],
   "source": [
    "hist = model.fit(train_generator,\n",
    "                steps_per_epoch=2000//32,\n",
    "                epochs = 10,\n",
    "                validation_data = validation_generator,\n",
    "                validation_steps = 1000 // 32,\n",
    "                callbacks = [checkpoint])"
   ]
  },
  {
   "cell_type": "markdown",
   "id": "59692062",
   "metadata": {
    "papermill": {
     "duration": 0.037877,
     "end_time": "2023-02-01T13:24:05.631758",
     "exception": false,
     "start_time": "2023-02-01T13:24:05.593881",
     "status": "completed"
    },
    "tags": []
   },
   "source": [
    "### Resoults Gaphic Analysis"
   ]
  },
  {
   "cell_type": "code",
   "execution_count": 9,
   "id": "e5616cff",
   "metadata": {
    "execution": {
     "iopub.execute_input": "2023-02-01T13:24:05.708655Z",
     "iopub.status.busy": "2023-02-01T13:24:05.707818Z",
     "iopub.status.idle": "2023-02-01T13:24:05.712580Z",
     "shell.execute_reply": "2023-02-01T13:24:05.711755Z"
    },
    "papermill": {
     "duration": 0.044927,
     "end_time": "2023-02-01T13:24:05.714528",
     "exception": false,
     "start_time": "2023-02-01T13:24:05.669601",
     "status": "completed"
    },
    "tags": []
   },
   "outputs": [],
   "source": [
    "import matplotlib.pyplot as plt"
   ]
  },
  {
   "cell_type": "code",
   "execution_count": 10,
   "id": "d3695c09",
   "metadata": {
    "execution": {
     "iopub.execute_input": "2023-02-01T13:24:05.792427Z",
     "iopub.status.busy": "2023-02-01T13:24:05.790862Z",
     "iopub.status.idle": "2023-02-01T13:24:06.015338Z",
     "shell.execute_reply": "2023-02-01T13:24:06.014309Z"
    },
    "papermill": {
     "duration": 0.26503,
     "end_time": "2023-02-01T13:24:06.017613",
     "exception": false,
     "start_time": "2023-02-01T13:24:05.752583",
     "status": "completed"
    },
    "tags": []
   },
   "outputs": [
    {
     "data": {
      "image/png": "[encoded data removed]",
      "text/plain": [
       "<Figure size 432x288 with 1 Axes>"
      ]
     },
     "metadata": {
      "needs_background": "light"
     },
     "output_type": "display_data"
    }
   ],
   "source": [
    "plt.plot(hist.history['accuracy'], label = 'Train')\n",
    "plt.plot(hist.history['val_accuracy'], label = 'Validation')\n",
    "plt.legend()\n",
    "plt.show()"
   ]
  },
  {
   "cell_type": "markdown",
   "id": "d4972245",
   "metadata": {
    "papermill": {
     "duration": 0.038726,
     "end_time": "2023-02-01T13:24:06.098807",
     "exception": false,
     "start_time": "2023-02-01T13:24:06.060081",
     "status": "completed"
    },
    "tags": []
   },
   "source": [
    "### Model Evaluation"
   ]
  },
  {
   "cell_type": "code",
   "execution_count": 11,
   "id": "973b39ee",
   "metadata": {
    "execution": {
     "iopub.execute_input": "2023-02-01T13:24:06.176264Z",
     "iopub.status.busy": "2023-02-01T13:24:06.175583Z",
     "iopub.status.idle": "2023-02-01T13:24:06.286515Z",
     "shell.execute_reply": "2023-02-01T13:24:06.285408Z"
    },
    "papermill": {
     "duration": 0.152213,
     "end_time": "2023-02-01T13:24:06.289162",
     "exception": false,
     "start_time": "2023-02-01T13:24:06.136949",
     "status": "completed"
    },
    "tags": []
   },
   "outputs": [
    {
     "name": "stdout",
     "output_type": "stream",
     "text": [
      "Found 1000 images belonging to 2 classes.\n"
     ]
    }
   ],
   "source": [
    "#Test Data\n",
    "test_generator = test_datagen.flow_from_directory('../input/cnn-data-sources/cats_and_dogs/test',\n",
    "                                  target_size = (150,150), #Define standar size of images\n",
    "                                  batch_size = 32, #Size of batches\n",
    "                                  class_mode = 'binary' #because there are only 2 options (Dogs and Cats)\n",
    "                                  )"
   ]
  },
  {
   "cell_type": "code",
   "execution_count": 12,
   "id": "5b17d868",
   "metadata": {
    "execution": {
     "iopub.execute_input": "2023-02-01T13:24:06.368009Z",
     "iopub.status.busy": "2023-02-01T13:24:06.366431Z",
     "iopub.status.idle": "2023-02-01T13:24:06.371448Z",
     "shell.execute_reply": "2023-02-01T13:24:06.370568Z"
    },
    "papermill": {
     "duration": 0.0456,
     "end_time": "2023-02-01T13:24:06.373505",
     "exception": false,
     "start_time": "2023-02-01T13:24:06.327905",
     "status": "completed"
    },
    "tags": []
   },
   "outputs": [],
   "source": [
    "model2 = model"
   ]
  },
  {
   "cell_type": "code",
   "execution_count": 13,
   "id": "13830614",
   "metadata": {
    "execution": {
     "iopub.execute_input": "2023-02-01T13:24:06.450004Z",
     "iopub.status.busy": "2023-02-01T13:24:06.449444Z",
     "iopub.status.idle": "2023-02-01T13:24:06.488210Z",
     "shell.execute_reply": "2023-02-01T13:24:06.487333Z"
    },
    "papermill": {
     "duration": 0.079398,
     "end_time": "2023-02-01T13:24:06.490194",
     "exception": false,
     "start_time": "2023-02-01T13:24:06.410796",
     "status": "completed"
    },
    "tags": []
   },
   "outputs": [],
   "source": [
    "model2.load_weights('./dog_cats_model.hdf5')"
   ]
  },
  {
   "cell_type": "code",
   "execution_count": 14,
   "id": "4847faf1",
   "metadata": {
    "execution": {
     "iopub.execute_input": "2023-02-01T13:24:06.631811Z",
     "iopub.status.busy": "2023-02-01T13:24:06.630825Z",
     "iopub.status.idle": "2023-02-01T13:24:12.303396Z",
     "shell.execute_reply": "2023-02-01T13:24:12.302462Z"
    },
    "papermill": {
     "duration": 5.755929,
     "end_time": "2023-02-01T13:24:12.305375",
     "exception": false,
     "start_time": "2023-02-01T13:24:06.549446",
     "status": "completed"
    },
    "tags": []
   },
   "outputs": [
    {
     "name": "stdout",
     "output_type": "stream",
     "text": [
      "32/32 [==============================] - 5s 168ms/step - loss: 0.6485 - accuracy: 0.6650\n"
     ]
    },
    {
     "data": {
      "text/plain": [
       "[0.6485289335250854, 0.6650000214576721]"
      ]
     },
     "execution_count": 14,
     "metadata": {},
     "output_type": "execute_result"
    }
   ],
   "source": [
    "model2.evaluate(test_generator)"
   ]
  }
 ],
 "metadata": {
  "kernelspec": {
   "display_name": "Python 3",
   "language": "python",
   "name": "python3"
  },
  "language_info": {
   "codemirror_mode": {
    "name": "ipython",
    "version": 3
   },
   "file_extension": ".py",
   "mimetype": "text/x-python",
   "name": "python",
   "nbconvert_exporter": "python",
   "pygments_lexer": "ipython3",
   "version": "3.7.12"
  },
  "papermill": {
   "default_parameters": {},
   "duration": 261.334815,
   "end_time": "2023-02-01T13:24:15.189041",
   "environment_variables": {},
   "exception": null,
   "input_path": "__notebook__.ipynb",
   "output_path": "__notebook__.ipynb",
   "parameters": {},
   "start_time": "2023-02-01T13:19:53.854226",
   "version": "2.3.4"
  }
 },
 "nbformat": 4,
 "nbformat_minor": 5
}
